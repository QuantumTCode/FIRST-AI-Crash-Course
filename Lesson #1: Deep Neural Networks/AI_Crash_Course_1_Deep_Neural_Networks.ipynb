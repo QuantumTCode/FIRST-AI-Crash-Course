{
  "nbformat": 4,
  "nbformat_minor": 0,
  "metadata": {
    "colab": {
      "name": "AI Crash Course #1: Deep Neural Networks.ipynb",
      "version": "0.3.2",
      "provenance": [],
      "collapsed_sections": [],
      "toc_visible": true,
      "include_colab_link": true
    },
    "kernelspec": {
      "name": "python3",
      "display_name": "Python 3"
    }
  },
  "cells": [
    {
      "cell_type": "markdown",
      "metadata": {
        "id": "view-in-github",
        "colab_type": "text"
      },
      "source": [
        "<a href=\"https://colab.research.google.com/github/QuantumTCode/FIRST-AI-Crash-Course/blob/master/Lesson%20%231%3A%20Deep%20Neural%20Networks/AI_Crash_Course_1_Deep_Neural_Networks.ipynb\" target=\"_parent\"><img src=\"https://colab.research.google.com/assets/colab-badge.svg\" alt=\"Open In Colab\"/></a>"
      ]
    },
    {
      "metadata": {
        "id": "4wcld0eZbHW1",
        "colab_type": "text"
      },
      "cell_type": "markdown",
      "source": [
        "# FIRST Houston AI Crash Course: Deep Neural Networks"
      ]
    },
    {
      "metadata": {
        "id": "YIefmuWGbboe",
        "colab_type": "text"
      },
      "cell_type": "markdown",
      "source": [
        "## Step 1: Import Necessary Libraries\n",
        "\n",
        "\n"
      ]
    },
    {
      "metadata": {
        "id": "9OILfywHjzPU",
        "colab_type": "code",
        "colab": {}
      },
      "cell_type": "code",
      "source": [
        "#Seaborn is a pretty cool data visualization library\n",
        "!pip install -q seaborn"
      ],
      "execution_count": 0,
      "outputs": []
    },
    {
      "metadata": {
        "id": "qG4jyI9_arN8",
        "colab_type": "code",
        "colab": {}
      },
      "cell_type": "code",
      "source": [
        "#Pandas is a data processing library\n",
        "import pandas as pd\n",
        "\n",
        "#Data visualization\n",
        "import seaborn as sns\n",
        "import matplotlib.pyplot as plt\n",
        "\n",
        "#and TensorFlow is the backbone of Keras, which is the Neural Network Library we will be using\n",
        "import tensorflow as tf\n",
        "from tensorflow import keras\n",
        "from tensorflow.keras import layers\n",
        "\n",
        "import pathlib"
      ],
      "execution_count": 0,
      "outputs": []
    },
    {
      "metadata": {
        "id": "bosj0xngc053",
        "colab_type": "text"
      },
      "cell_type": "markdown",
      "source": [
        "## Step 2: Let's Get the Data In\n"
      ]
    },
    {
      "metadata": {
        "id": "hAf7ETmJquiW",
        "colab_type": "code",
        "colab": {}
      },
      "cell_type": "code",
      "source": [
        ""
      ],
      "execution_count": 0,
      "outputs": []
    }
  ]
}