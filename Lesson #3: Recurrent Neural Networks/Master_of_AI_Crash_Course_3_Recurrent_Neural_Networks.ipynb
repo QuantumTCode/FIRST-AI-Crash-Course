{
  "nbformat": 4,
  "nbformat_minor": 0,
  "metadata": {
    "colab": {
      "name": "Master of AI Crash Course #3: Recurrent Neural Networks.ipynb",
      "version": "0.3.2",
      "provenance": [],
      "collapsed_sections": [],
      "toc_visible": true,
      "include_colab_link": true
    },
    "kernelspec": {
      "name": "python3",
      "display_name": "Python 3"
    },
    "accelerator": "GPU"
  },
  "cells": [
    {
      "cell_type": "markdown",
      "metadata": {
        "id": "view-in-github",
        "colab_type": "text"
      },
      "source": [
        "<a href=\"https://colab.research.google.com/github/QuantumTCode/FIRST-AI-Crash-Course/blob/master/Lesson%20%233%3A%20Recurrent%20Neural%20Networks/Master_of_AI_Crash_Course_3_Recurrent_Neural_Networks.ipynb\" target=\"_parent\"><img src=\"https://colab.research.google.com/assets/colab-badge.svg\" alt=\"Open In Colab\"/></a>"
      ]
    },
    {
      "metadata": {
        "id": "B7H7G2qU8S0v",
        "colab_type": "text"
      },
      "cell_type": "markdown",
      "source": [
        "# FIRST AI Crash Course: Recurrent Neural Networks"
      ]
    },
    {
      "metadata": {
        "id": "rHjO2OEV8Wxn",
        "colab_type": "text"
      },
      "cell_type": "markdown",
      "source": [
        "## Step 0: Import Necessary Libraries"
      ]
    },
    {
      "metadata": {
        "id": "SyQmMSq58Nho",
        "colab_type": "code",
        "outputId": "87054361-b2b0-498e-e2b9-8413f06fa075",
        "colab": {
          "base_uri": "https://localhost:8080/",
          "height": 85
        }
      },
      "cell_type": "code",
      "source": [
        "# Pandas is a data processing library\n",
        "import pandas as pd\n",
        "\n",
        "#NumPy is mathematical library\n",
        "import numpy as np\n",
        "\n",
        "# Data visualization\n",
        "import seaborn as sns\n",
        "import matplotlib.pyplot as plt\n",
        "\n",
        "# and TensorFlow is the backbone of Keras, which is the Neural Network Library we will be using\n",
        "import tensorflow as tf\n",
        "from tensorflow import keras\n",
        "from tensorflow.keras import layers\n",
        "from keras.preprocessing.sequence import pad_sequences\n",
        "from keras.preprocessing.text import Tokenizer\n",
        "\n",
        "import nltk\n",
        "nltk.download('stopwords')\n",
        "nltk.download('wordnet')\n",
        "\n",
        "# Splitting Data\n",
        "from sklearn.model_selection import train_test_split\n",
        "\n",
        "import pathlib"
      ],
      "execution_count": 0,
      "outputs": [
        {
          "output_type": "stream",
          "text": [
            "[nltk_data] Downloading package stopwords to /root/nltk_data...\n",
            "[nltk_data]   Package stopwords is already up-to-date!\n",
            "[nltk_data] Downloading package wordnet to /root/nltk_data...\n",
            "[nltk_data]   Unzipping corpora/wordnet.zip.\n"
          ],
          "name": "stdout"
        }
      ]
    },
    {
      "metadata": {
        "id": "cmbRK02T8eEd",
        "colab_type": "text"
      },
      "cell_type": "markdown",
      "source": [
        "## Let's Begin! All comments are where we will be working to fill in the code in real-time, they're supposed to be blank.\n",
        "\n",
        "A filled-out copy will be posted to the GitHub once we complete it in the workshop.\n"
      ]
    },
    {
      "metadata": {
        "id": "_namm8rgKhkS",
        "colab_type": "code",
        "outputId": "b732a91b-ace4-4d2e-a4e4-fdf2b1ec8181",
        "colab": {
          "base_uri": "https://localhost:8080/",
          "height": 649
        }
      },
      "cell_type": "code",
      "source": [
        "!wget https://github.com/QuantumTCode/FIRST-AI-Crash-Course/raw/master/Lesson%20%233:%20Recurrent%20Neural%20Networks/imbd_test_X.csv\n",
        "!wget https://github.com/QuantumTCode/FIRST-AI-Crash-Course/raw/master/Lesson%20%233:%20Recurrent%20Neural%20Networks/imbd_train.csv.zip && unzip imbd_train.csv.zip && rm imbd_train.csv.zip && rm -rf __MACOSX"
      ],
      "execution_count": 0,
      "outputs": [
        {
          "output_type": "stream",
          "text": [
            "--2019-04-19 11:08:03--  https://github.com/QuantumTCode/FIRST-AI-Crash-Course/raw/master/Lesson%20%233:%20Recurrent%20Neural%20Networks/imbd_test_X.csv\n",
            "Resolving github.com (github.com)... 192.30.253.112, 192.30.253.113\n",
            "Connecting to github.com (github.com)|192.30.253.112|:443... connected.\n",
            "HTTP request sent, awaiting response... 302 Found\n",
            "Location: https://raw.githubusercontent.com/QuantumTCode/FIRST-AI-Crash-Course/master/Lesson%20%233%3A%20Recurrent%20Neural%20Networks/imbd_test_X.csv [following]\n",
            "--2019-04-19 11:08:03--  https://raw.githubusercontent.com/QuantumTCode/FIRST-AI-Crash-Course/master/Lesson%20%233%3A%20Recurrent%20Neural%20Networks/imbd_test_X.csv\n",
            "Resolving raw.githubusercontent.com (raw.githubusercontent.com)... 151.101.0.133, 151.101.64.133, 151.101.128.133, ...\n",
            "Connecting to raw.githubusercontent.com (raw.githubusercontent.com)|151.101.0.133|:443... connected.\n",
            "HTTP request sent, awaiting response... 200 OK\n",
            "Length: 13300502 (13M) [text/plain]\n",
            "Saving to: ‘imbd_test_X.csv’\n",
            "\n",
            "imbd_test_X.csv     100%[===================>]  12.68M  --.-KB/s    in 0.1s    \n",
            "\n",
            "2019-04-19 11:08:03 (109 MB/s) - ‘imbd_test_X.csv’ saved [13300502/13300502]\n",
            "\n",
            "--2019-04-19 11:08:04--  https://github.com/QuantumTCode/FIRST-AI-Crash-Course/raw/master/Lesson%20%233:%20Recurrent%20Neural%20Networks/imbd_train.csv.zip\n",
            "Resolving github.com (github.com)... 192.30.253.112, 192.30.253.113\n",
            "Connecting to github.com (github.com)|192.30.253.112|:443... connected.\n",
            "HTTP request sent, awaiting response... 302 Found\n",
            "Location: https://raw.githubusercontent.com/QuantumTCode/FIRST-AI-Crash-Course/master/Lesson%20%233%3A%20Recurrent%20Neural%20Networks/imbd_train.csv.zip [following]\n",
            "--2019-04-19 11:08:04--  https://raw.githubusercontent.com/QuantumTCode/FIRST-AI-Crash-Course/master/Lesson%20%233%3A%20Recurrent%20Neural%20Networks/imbd_train.csv.zip\n",
            "Resolving raw.githubusercontent.com (raw.githubusercontent.com)... 151.101.0.133, 151.101.64.133, 151.101.128.133, ...\n",
            "Connecting to raw.githubusercontent.com (raw.githubusercontent.com)|151.101.0.133|:443... connected.\n",
            "HTTP request sent, awaiting response... 200 OK\n",
            "Length: 21159179 (20M) [application/zip]\n",
            "Saving to: ‘imbd_train.csv.zip’\n",
            "\n",
            "imbd_train.csv.zip  100%[===================>]  20.18M  --.-KB/s    in 0.1s    \n",
            "\n",
            "2019-04-19 11:08:04 (140 MB/s) - ‘imbd_train.csv.zip’ saved [21159179/21159179]\n",
            "\n",
            "Archive:  imbd_train.csv.zip\n",
            "  inflating: imbd_train.csv          \n",
            "   creating: __MACOSX/\n",
            "  inflating: __MACOSX/._imbd_train.csv  \n"
          ],
          "name": "stdout"
        }
      ]
    },
    {
      "metadata": {
        "id": "_-uloV5XNB7s",
        "colab_type": "code",
        "outputId": "bad69ef7-325e-4631-ccd2-7f5c8fc62ba8",
        "colab": {
          "base_uri": "https://localhost:8080/",
          "height": 204
        }
      },
      "cell_type": "code",
      "source": [
        "train = pd.read_csv(\"imbd_train.csv\")\n",
        "train.head()"
      ],
      "execution_count": 0,
      "outputs": [
        {
          "output_type": "execute_result",
          "data": {
            "text/html": [
              "<div>\n",
              "<style scoped>\n",
              "    .dataframe tbody tr th:only-of-type {\n",
              "        vertical-align: middle;\n",
              "    }\n",
              "\n",
              "    .dataframe tbody tr th {\n",
              "        vertical-align: top;\n",
              "    }\n",
              "\n",
              "    .dataframe thead th {\n",
              "        text-align: right;\n",
              "    }\n",
              "</style>\n",
              "<table border=\"1\" class=\"dataframe\">\n",
              "  <thead>\n",
              "    <tr style=\"text-align: right;\">\n",
              "      <th></th>\n",
              "      <th>review</th>\n",
              "      <th>sentiment</th>\n",
              "    </tr>\n",
              "  </thead>\n",
              "  <tbody>\n",
              "    <tr>\n",
              "      <th>0</th>\n",
              "      <td>Imagine The Big Chill with a cast of twenty-so...</td>\n",
              "      <td>0</td>\n",
              "    </tr>\n",
              "    <tr>\n",
              "      <th>1</th>\n",
              "      <td>I'd have to say that I've seen worse Sci Fi Ch...</td>\n",
              "      <td>0</td>\n",
              "    </tr>\n",
              "    <tr>\n",
              "      <th>2</th>\n",
              "      <td>Director Fabio Barreto got a strange Academy N...</td>\n",
              "      <td>0</td>\n",
              "    </tr>\n",
              "    <tr>\n",
              "      <th>3</th>\n",
              "      <td>Pretty bad PRC cheapie which I rarely bother t...</td>\n",
              "      <td>0</td>\n",
              "    </tr>\n",
              "    <tr>\n",
              "      <th>4</th>\n",
              "      <td>This is a very intriguing short movie by David...</td>\n",
              "      <td>1</td>\n",
              "    </tr>\n",
              "  </tbody>\n",
              "</table>\n",
              "</div>"
            ],
            "text/plain": [
              "                                              review  sentiment\n",
              "0  Imagine The Big Chill with a cast of twenty-so...          0\n",
              "1  I'd have to say that I've seen worse Sci Fi Ch...          0\n",
              "2  Director Fabio Barreto got a strange Academy N...          0\n",
              "3  Pretty bad PRC cheapie which I rarely bother t...          0\n",
              "4  This is a very intriguing short movie by David...          1"
            ]
          },
          "metadata": {
            "tags": []
          },
          "execution_count": 3
        }
      ]
    },
    {
      "metadata": {
        "id": "HhceE3MBdzA8",
        "colab_type": "code",
        "colab": {}
      },
      "cell_type": "code",
      "source": [
        "# text preprocessing functions\n",
        "\n",
        "import re\n",
        "from nltk.stem import WordNetLemmatizer\n",
        "from nltk.corpus import stopwords\n",
        "\n",
        "stop_words = set(stopwords.words(\"english\")) \n",
        "lemmatizer = WordNetLemmatizer()\n",
        "\n",
        "\n",
        "def clean_text(text):\n",
        "    text = re.sub(r'[^\\w\\s]','',text, re.UNICODE)\n",
        "    text = text.lower()\n",
        "    text = [lemmatizer.lemmatize(token) for token in text.split(\" \")]\n",
        "    text = [lemmatizer.lemmatize(token, \"v\") for token in text]\n",
        "    text = [word for word in text if not word in stop_words]\n",
        "    text = \" \".join(text)\n",
        "    return text\n",
        "\n",
        "train['review'] = train.review.apply(lambda x: clean_text(x))"
      ],
      "execution_count": 0,
      "outputs": []
    },
    {
      "metadata": {
        "id": "mK7URlrINZwl",
        "colab_type": "code",
        "colab": {}
      },
      "cell_type": "code",
      "source": [
        "max_features = 6000\n",
        "tokenizer = Tokenizer(num_words=max_features)\n",
        "tokenizer.fit_on_texts(train['review'])"
      ],
      "execution_count": 0,
      "outputs": []
    },
    {
      "metadata": {
        "id": "ta-aWiybPUNL",
        "colab_type": "code",
        "colab": {}
      },
      "cell_type": "code",
      "source": [
        "tokenized_train = tokenizer.texts_to_sequences(train['review'])"
      ],
      "execution_count": 0,
      "outputs": []
    },
    {
      "metadata": {
        "id": "glbD8855PsDn",
        "colab_type": "code",
        "colab": {}
      },
      "cell_type": "code",
      "source": [
        "maxlen = 130\n",
        "X = pad_sequences(tokenized_train, maxlen=maxlen)\n",
        "Y = train['sentiment']"
      ],
      "execution_count": 0,
      "outputs": []
    },
    {
      "metadata": {
        "id": "irdNu0p3M77P",
        "colab_type": "code",
        "colab": {}
      },
      "cell_type": "code",
      "source": [
        "train_X, val_X, train_Y, val_Y = train_test_split(X, Y, test_size=0.2, random_state=42)"
      ],
      "execution_count": 0,
      "outputs": []
    },
    {
      "metadata": {
        "id": "xHzrhbfxQAQ4",
        "colab_type": "code",
        "colab": {}
      },
      "cell_type": "code",
      "source": [
        "def build_model():\n",
        "  model = keras.Sequential([\n",
        "    layers.Embedding(max_features, 128),\n",
        "    layers.Bidirectional(layers.LSTM(32, return_sequences = True)),\n",
        "    layers.GlobalMaxPool1D(),\n",
        "    layers.Dense(20, activation=\"relu\"),\n",
        "    layers.Dense(1,activation='sigmoid')\n",
        "  ])\n",
        "\n",
        "  optimizer = tf.keras.optimizers.Adam()\n",
        "\n",
        "  model.compile(loss='binary_crossentropy',\n",
        "                optimizer=optimizer,\n",
        "                metrics=['accuracy'])\n",
        "  return model"
      ],
      "execution_count": 0,
      "outputs": []
    },
    {
      "metadata": {
        "id": "LOdsnctlQndL",
        "colab_type": "code",
        "colab": {}
      },
      "cell_type": "code",
      "source": [
        "model = build_model()"
      ],
      "execution_count": 0,
      "outputs": []
    },
    {
      "metadata": {
        "id": "CivbZefeQoE2",
        "colab_type": "code",
        "outputId": "300c2cee-0638-4b29-c71f-cb75dde7f7f6",
        "colab": {
          "base_uri": "https://localhost:8080/",
          "height": 306
        }
      },
      "cell_type": "code",
      "source": [
        "model.summary()"
      ],
      "execution_count": 0,
      "outputs": [
        {
          "output_type": "stream",
          "text": [
            "_________________________________________________________________\n",
            "Layer (type)                 Output Shape              Param #   \n",
            "=================================================================\n",
            "embedding_3 (Embedding)      (None, None, 128)         768000    \n",
            "_________________________________________________________________\n",
            "bidirectional_3 (Bidirection (None, None, 64)          41216     \n",
            "_________________________________________________________________\n",
            "global_max_pooling1d_3 (Glob (None, 64)                0         \n",
            "_________________________________________________________________\n",
            "dense_6 (Dense)              (None, 20)                1300      \n",
            "_________________________________________________________________\n",
            "dense_7 (Dense)              (None, 1)                 21        \n",
            "=================================================================\n",
            "Total params: 810,537\n",
            "Trainable params: 810,537\n",
            "Non-trainable params: 0\n",
            "_________________________________________________________________\n"
          ],
          "name": "stdout"
        }
      ]
    },
    {
      "metadata": {
        "id": "r1GoX41vQ2Jp",
        "colab_type": "code",
        "colab": {}
      },
      "cell_type": "code",
      "source": [
        "# Keras callbacks\n",
        "\n",
        "# Prints a dot for every epoch, just easier to keep track of training\n",
        "class PrintDot(keras.callbacks.Callback):\n",
        "  def on_epoch_end(self, epoch, logs):\n",
        "    if epoch % 100 == 0: print('')\n",
        "    print('.', end='')\n",
        "    \n",
        "# Early stopping\n",
        "early_stop = keras.callbacks.EarlyStopping(monitor='val_loss', patience=10)"
      ],
      "execution_count": 0,
      "outputs": []
    },
    {
      "metadata": {
        "id": "Lrjz8gYYQ5yU",
        "colab_type": "code",
        "outputId": "eac10b3b-e845-4d22-99d5-28fe822ab837",
        "colab": {
          "base_uri": "https://localhost:8080/",
          "height": 51
        }
      },
      "cell_type": "code",
      "source": [
        "EPOCHS = 10\n",
        "batch_size = 1024\n",
        "\n",
        "history = model.fit(train_X, train_Y,\n",
        "          batch_size=batch_size,\n",
        "          epochs=EPOCHS,\n",
        "          verbose=0,\n",
        "          validation_data=(val_X, val_Y),\n",
        "          callbacks=[PrintDot()])"
      ],
      "execution_count": 0,
      "outputs": [
        {
          "output_type": "stream",
          "text": [
            "\n",
            ".........."
          ],
          "name": "stdout"
        }
      ]
    },
    {
      "metadata": {
        "id": "1LNJV32Ie3vM",
        "colab_type": "code",
        "colab": {}
      },
      "cell_type": "code",
      "source": [
        "score = model.evaluate(val_X, val_Y, verbose=0)"
      ],
      "execution_count": 0,
      "outputs": []
    },
    {
      "metadata": {
        "id": "dyh3-B2Ne7K3",
        "colab_type": "code",
        "outputId": "da751aef-bdf7-43ce-c1c4-f4c8f3524378",
        "colab": {
          "base_uri": "https://localhost:8080/",
          "height": 204
        }
      },
      "cell_type": "code",
      "source": [
        "hist = pd.DataFrame(history.history)\n",
        "hist['epoch'] = history.epoch\n",
        "hist.tail()"
      ],
      "execution_count": 0,
      "outputs": [
        {
          "output_type": "execute_result",
          "data": {
            "text/html": [
              "<div>\n",
              "<style scoped>\n",
              "    .dataframe tbody tr th:only-of-type {\n",
              "        vertical-align: middle;\n",
              "    }\n",
              "\n",
              "    .dataframe tbody tr th {\n",
              "        vertical-align: top;\n",
              "    }\n",
              "\n",
              "    .dataframe thead th {\n",
              "        text-align: right;\n",
              "    }\n",
              "</style>\n",
              "<table border=\"1\" class=\"dataframe\">\n",
              "  <thead>\n",
              "    <tr style=\"text-align: right;\">\n",
              "      <th></th>\n",
              "      <th>loss</th>\n",
              "      <th>acc</th>\n",
              "      <th>val_loss</th>\n",
              "      <th>val_acc</th>\n",
              "      <th>epoch</th>\n",
              "    </tr>\n",
              "  </thead>\n",
              "  <tbody>\n",
              "    <tr>\n",
              "      <th>5</th>\n",
              "      <td>0.171358</td>\n",
              "      <td>0.940188</td>\n",
              "      <td>0.325284</td>\n",
              "      <td>0.877250</td>\n",
              "      <td>5</td>\n",
              "    </tr>\n",
              "    <tr>\n",
              "      <th>6</th>\n",
              "      <td>0.152980</td>\n",
              "      <td>0.948812</td>\n",
              "      <td>0.347487</td>\n",
              "      <td>0.873375</td>\n",
              "      <td>6</td>\n",
              "    </tr>\n",
              "    <tr>\n",
              "      <th>7</th>\n",
              "      <td>0.136488</td>\n",
              "      <td>0.955719</td>\n",
              "      <td>0.372634</td>\n",
              "      <td>0.870750</td>\n",
              "      <td>7</td>\n",
              "    </tr>\n",
              "    <tr>\n",
              "      <th>8</th>\n",
              "      <td>0.123121</td>\n",
              "      <td>0.959750</td>\n",
              "      <td>0.398336</td>\n",
              "      <td>0.867750</td>\n",
              "      <td>8</td>\n",
              "    </tr>\n",
              "    <tr>\n",
              "      <th>9</th>\n",
              "      <td>0.111449</td>\n",
              "      <td>0.964813</td>\n",
              "      <td>0.407426</td>\n",
              "      <td>0.867750</td>\n",
              "      <td>9</td>\n",
              "    </tr>\n",
              "  </tbody>\n",
              "</table>\n",
              "</div>"
            ],
            "text/plain": [
              "       loss       acc  val_loss   val_acc  epoch\n",
              "5  0.171358  0.940188  0.325284  0.877250      5\n",
              "6  0.152980  0.948812  0.347487  0.873375      6\n",
              "7  0.136488  0.955719  0.372634  0.870750      7\n",
              "8  0.123121  0.959750  0.398336  0.867750      8\n",
              "9  0.111449  0.964813  0.407426  0.867750      9"
            ]
          },
          "metadata": {
            "tags": []
          },
          "execution_count": 89
        }
      ]
    },
    {
      "metadata": {
        "id": "SEu24VwifAHC",
        "colab_type": "code",
        "colab": {}
      },
      "cell_type": "code",
      "source": [
        "#Plot history of model function\n",
        "\n",
        "def plot_history(history):\n",
        "  hist = pd.DataFrame(history.history)\n",
        "  hist['epoch'] = history.epoch\n",
        "  \n",
        "  plt.figure()\n",
        "  plt.xlabel('Epoch')\n",
        "  plt.ylabel('Accuracy')\n",
        "  plt.plot(hist['epoch'], hist['acc'],\n",
        "           label='Train acc')\n",
        "  plt.plot(hist['epoch'], hist['val_acc'],\n",
        "           label = 'Val acc')\n",
        "  plt.ylim([0,1])\n",
        "  plt.legend()\n",
        "  plt.show()"
      ],
      "execution_count": 0,
      "outputs": []
    },
    {
      "metadata": {
        "id": "HRdyNdV0fD8j",
        "colab_type": "code",
        "outputId": "49b4415a-c6f9-46de-bd2e-b08005846a85",
        "colab": {
          "base_uri": "https://localhost:8080/",
          "height": 283
        }
      },
      "cell_type": "code",
      "source": [
        "plot_history(history)"
      ],
      "execution_count": 0,
      "outputs": [
        {
          "output_type": "display_data",
          "data": {
            "image/png": "[encoded data removed]",
            "text/plain": [
              "<Figure size 432x288 with 1 Axes>"
            ]
          },
          "metadata": {
            "tags": []
          }
        }
      ]
    },
    {
      "metadata": {
        "id": "H5x59e7jflWL",
        "colab_type": "code",
        "outputId": "896af47e-80e7-4255-e54a-126a837d03f9",
        "colab": {
          "base_uri": "https://localhost:8080/",
          "height": 51
        }
      },
      "cell_type": "code",
      "source": [
        "print('Test loss:', score[0])\n",
        "print('Test accuracy:', score[1])"
      ],
      "execution_count": 0,
      "outputs": [
        {
          "output_type": "stream",
          "text": [
            "Test loss: 0.4074262337088585\n",
            "Test accuracy: 0.86775\n"
          ],
          "name": "stdout"
        }
      ]
    },
    {
      "metadata": {
        "id": "PJY9DbkXQ_zt",
        "colab_type": "code",
        "outputId": "b6345473-4c04-455f-f925-f54a61286a8b",
        "colab": {
          "base_uri": "https://localhost:8080/",
          "height": 204
        }
      },
      "cell_type": "code",
      "source": [
        "test_X = pd.read_csv(\"imbd_test_X.csv\",header=None)\n",
        "test_X.rename(columns={0:'review'}, inplace=True)\n",
        "test_X['review'] = test_X.review.apply(lambda x: clean_text(x))"
      ],
      "execution_count": 0,
      "outputs": [
        {
          "output_type": "execute_result",
          "data": {
            "text/html": [
              "<div>\n",
              "<style scoped>\n",
              "    .dataframe tbody tr th:only-of-type {\n",
              "        vertical-align: middle;\n",
              "    }\n",
              "\n",
              "    .dataframe tbody tr th {\n",
              "        vertical-align: top;\n",
              "    }\n",
              "\n",
              "    .dataframe thead th {\n",
              "        text-align: right;\n",
              "    }\n",
              "</style>\n",
              "<table border=\"1\" class=\"dataframe\">\n",
              "  <thead>\n",
              "    <tr style=\"text-align: right;\">\n",
              "      <th></th>\n",
              "      <th>review</th>\n",
              "    </tr>\n",
              "  </thead>\n",
              "  <tbody>\n",
              "    <tr>\n",
              "      <th>0</th>\n",
              "      <td>first hate moronic rapper couldnt act gun pres...</td>\n",
              "    </tr>\n",
              "    <tr>\n",
              "      <th>1</th>\n",
              "      <td>wealthy horse rancher buenos aire longstanding...</td>\n",
              "    </tr>\n",
              "    <tr>\n",
              "      <th>2</th>\n",
              "      <td>cage play drink get high critically praise eli...</td>\n",
              "    </tr>\n",
              "    <tr>\n",
              "      <th>3</th>\n",
              "      <td>tell  serious boozer drink budweiser many suic...</td>\n",
              "    </tr>\n",
              "    <tr>\n",
              "      <th>4</th>\n",
              "      <td>bottom end apocalypse movie scale piece pish c...</td>\n",
              "    </tr>\n",
              "  </tbody>\n",
              "</table>\n",
              "</div>"
            ],
            "text/plain": [
              "                                              review\n",
              "0  first hate moronic rapper couldnt act gun pres...\n",
              "1  wealthy horse rancher buenos aire longstanding...\n",
              "2  cage play drink get high critically praise eli...\n",
              "3  tell  serious boozer drink budweiser many suic...\n",
              "4  bottom end apocalypse movie scale piece pish c..."
            ]
          },
          "metadata": {
            "tags": []
          },
          "execution_count": 96
        }
      ]
    },
    {
      "metadata": {
        "id": "mh7JfZ8MRfrn",
        "colab_type": "code",
        "colab": {}
      },
      "cell_type": "code",
      "source": [
        "tokenized_test = tokenizer.texts_to_sequences(test_X['review'])"
      ],
      "execution_count": 0,
      "outputs": []
    },
    {
      "metadata": {
        "id": "47P77GfwRo-g",
        "colab_type": "code",
        "colab": {}
      },
      "cell_type": "code",
      "source": [
        "test_X = pad_sequences(tokenized_test, maxlen=maxlen)"
      ],
      "execution_count": 0,
      "outputs": []
    },
    {
      "metadata": {
        "id": "xnIopKpoWKZJ",
        "colab_type": "code",
        "colab": {}
      },
      "cell_type": "code",
      "source": [
        "predictions = np.round(model.predict(test_X)).astype(int)"
      ],
      "execution_count": 0,
      "outputs": []
    },
    {
      "metadata": {
        "id": "IInunJuxWNDX",
        "colab_type": "code",
        "colab": {}
      },
      "cell_type": "code",
      "source": [
        "submission = pd.DataFrame(data=predictions, columns=['sentiment'])"
      ],
      "execution_count": 0,
      "outputs": []
    },
    {
      "metadata": {
        "id": "7N8JkOPoWYqc",
        "colab_type": "code",
        "colab": {}
      },
      "cell_type": "code",
      "source": [
        "submission.to_csv(\"submission.csv\",index_label=\"index\")"
      ],
      "execution_count": 0,
      "outputs": []
    }
  ]
}