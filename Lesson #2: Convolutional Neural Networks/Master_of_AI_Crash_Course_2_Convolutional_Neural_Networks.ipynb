{
  "nbformat": 4,
  "nbformat_minor": 0,
  "metadata": {
    "colab": {
      "name": "Master of AI Crash Course #2: Convolutional Neural Networks.ipynb",
      "version": "0.3.2",
      "provenance": [],
      "collapsed_sections": [],
      "toc_visible": true,
      "include_colab_link": true
    },
    "kernelspec": {
      "name": "python3",
      "display_name": "Python 3"
    },
    "accelerator": "GPU"
  },
  "cells": [
    {
      "cell_type": "markdown",
      "metadata": {
        "id": "view-in-github",
        "colab_type": "text"
      },
      "source": [
        "<a href=\"https://colab.research.google.com/github/QuantumTCode/FIRST-AI-Crash-Course/blob/master/Lesson%20%232%3A%20Convolutional%20Neural%20Networks/Master_of_AI_Crash_Course_2_Convolutional_Neural_Networks.ipynb\" target=\"_parent\"><img src=\"https://colab.research.google.com/assets/colab-badge.svg\" alt=\"Open In Colab\"/></a>"
      ]
    },
    {
      "metadata": {
        "id": "JPmVf3mXqJre",
        "colab_type": "text"
      },
      "cell_type": "markdown",
      "source": [
        "# FIRST AI Crash Course: Convolutional Neural Networks"
      ]
    },
    {
      "metadata": {
        "id": "EngJABmMqP_H",
        "colab_type": "text"
      },
      "cell_type": "markdown",
      "source": [
        "## Step 0: Import Necessary Libraries"
      ]
    },
    {
      "metadata": {
        "id": "eraZH9KubTa2",
        "colab_type": "code",
        "outputId": "b5f6d606-02de-4b12-f7e5-6114f1bb071b",
        "colab": {
          "base_uri": "https://localhost:8080/",
          "height": 34
        }
      },
      "cell_type": "code",
      "source": [
        "# Pandas is a data processing library\n",
        "import pandas as pd\n",
        "\n",
        "#NumPy is mathematical library\n",
        "import numpy as np\n",
        "\n",
        "# Data visualization\n",
        "import seaborn as sns\n",
        "import matplotlib.pyplot as plt\n",
        "\n",
        "# and TensorFlow is the backbone of Keras, which is the Neural Network Library we will be using\n",
        "import tensorflow as tf\n",
        "from tensorflow import keras\n",
        "from tensorflow.keras import layers\n",
        "from keras.utils import to_categorical\n",
        "\n",
        "# Splitting Data\n",
        "from sklearn.model_selection import train_test_split\n",
        "\n",
        "import pathlib"
      ],
      "execution_count": 0,
      "outputs": [
        {
          "output_type": "stream",
          "text": [
            "Using TensorFlow backend.\n"
          ],
          "name": "stderr"
        }
      ]
    },
    {
      "metadata": {
        "id": "BhHF-1EoqVPe",
        "colab_type": "text"
      },
      "cell_type": "markdown",
      "source": [
        "## Let's Begin! All comments are where we will be working to fill in the code in real-time, they're supposed to be blank.\n",
        "\n",
        "A filled-out copy will be posted to the GitHub once we complete it in the workshop.\n"
      ]
    },
    {
      "metadata": {
        "id": "JsnscWinpLS5",
        "colab_type": "code",
        "outputId": "ec77444c-8a7d-4875-95d5-15deb7965342",
        "colab": {
          "base_uri": "https://localhost:8080/",
          "height": 649
        }
      },
      "cell_type": "code",
      "source": [
        "!wget https://github.com/QuantumTCode/FIRST-AI-Crash-Course/raw/master/Lesson%20%232:%20Convolutional%20Neural%20Networks/fashion_test_X.csv\n",
        "!wget https://github.com/QuantumTCode/FIRST-AI-Crash-Course/raw/master/Lesson%20%232:%20Convolutional%20Neural%20Networks/fashion-mnist_train.csv.zip && unzip fashion-mnist_train.csv.zip && rm -rf __MACOSX && rm fashion-mnist_train.csv.zip"
      ],
      "execution_count": 0,
      "outputs": [
        {
          "output_type": "stream",
          "text": [
            "--2019-04-19 08:55:55--  https://github.com/QuantumTCode/FIRST-AI-Crash-Course/raw/master/Lesson%20%232:%20Convolutional%20Neural%20Networks/fashion_test_X.csv\n",
            "Resolving github.com (github.com)... 192.30.253.112, 192.30.253.113\n",
            "Connecting to github.com (github.com)|192.30.253.112|:443... connected.\n",
            "HTTP request sent, awaiting response... 302 Found\n",
            "Location: https://raw.githubusercontent.com/QuantumTCode/FIRST-AI-Crash-Course/master/Lesson%20%232%3A%20Convolutional%20Neural%20Networks/fashion_test_X.csv [following]\n",
            "--2019-04-19 08:55:56--  https://raw.githubusercontent.com/QuantumTCode/FIRST-AI-Crash-Course/master/Lesson%20%232%3A%20Convolutional%20Neural%20Networks/fashion_test_X.csv\n",
            "Resolving raw.githubusercontent.com (raw.githubusercontent.com)... 151.101.0.133, 151.101.64.133, 151.101.128.133, ...\n",
            "Connecting to raw.githubusercontent.com (raw.githubusercontent.com)|151.101.0.133|:443... connected.\n",
            "HTTP request sent, awaiting response... 200 OK\n",
            "Length: 22156685 (21M) [text/plain]\n",
            "Saving to: ‘fashion_test_X.csv’\n",
            "\n",
            "fashion_test_X.csv  100%[===================>]  21.13M   129MB/s    in 0.2s    \n",
            "\n",
            "2019-04-19 08:55:56 (129 MB/s) - ‘fashion_test_X.csv’ saved [22156685/22156685]\n",
            "\n",
            "--2019-04-19 08:55:57--  https://github.com/QuantumTCode/FIRST-AI-Crash-Course/raw/master/Lesson%20%232:%20Convolutional%20Neural%20Networks/fashion-mnist_train.csv.zip\n",
            "Resolving github.com (github.com)... 192.30.253.112, 192.30.253.113\n",
            "Connecting to github.com (github.com)|192.30.253.112|:443... connected.\n",
            "HTTP request sent, awaiting response... 302 Found\n",
            "Location: https://raw.githubusercontent.com/QuantumTCode/FIRST-AI-Crash-Course/master/Lesson%20%232%3A%20Convolutional%20Neural%20Networks/fashion-mnist_train.csv.zip [following]\n",
            "--2019-04-19 08:55:57--  https://raw.githubusercontent.com/QuantumTCode/FIRST-AI-Crash-Course/master/Lesson%20%232%3A%20Convolutional%20Neural%20Networks/fashion-mnist_train.csv.zip\n",
            "Resolving raw.githubusercontent.com (raw.githubusercontent.com)... 151.101.0.133, 151.101.64.133, 151.101.128.133, ...\n",
            "Connecting to raw.githubusercontent.com (raw.githubusercontent.com)|151.101.0.133|:443... connected.\n",
            "HTTP request sent, awaiting response... 200 OK\n",
            "Length: 33961373 (32M) [application/zip]\n",
            "Saving to: ‘fashion-mnist_train.csv.zip’\n",
            "\n",
            "fashion-mnist_train 100%[===================>]  32.39M   160MB/s    in 0.2s    \n",
            "\n",
            "2019-04-19 08:55:58 (160 MB/s) - ‘fashion-mnist_train.csv.zip’ saved [33961373/33961373]\n",
            "\n",
            "Archive:  fashion-mnist_train.csv.zip\n",
            "  inflating: fashion-mnist_train.csv  \n",
            "   creating: __MACOSX/\n",
            "  inflating: __MACOSX/._fashion-mnist_train.csv  \n"
          ],
          "name": "stdout"
        }
      ]
    },
    {
      "metadata": {
        "id": "_Z4_07EJdaqY",
        "colab_type": "code",
        "colab": {}
      },
      "cell_type": "code",
      "source": [
        "train_dataset = pd.read_csv(\"fashion-mnist_train.csv\")"
      ],
      "execution_count": 0,
      "outputs": []
    },
    {
      "metadata": {
        "id": "BjRK9-SeqgCL",
        "colab_type": "code",
        "colab": {}
      },
      "cell_type": "code",
      "source": [
        "img_rows, img_cols = 28, 28\n",
        "input_shape = (img_rows, img_cols, 1)"
      ],
      "execution_count": 0,
      "outputs": []
    },
    {
      "metadata": {
        "id": "-HmRFFIaqgzh",
        "colab_type": "code",
        "colab": {}
      },
      "cell_type": "code",
      "source": [
        "X = np.array(train_dataset.iloc[:, 1:])\n",
        "Y = to_categorical(np.array(train_dataset.iloc[:, 0]))"
      ],
      "execution_count": 0,
      "outputs": []
    },
    {
      "metadata": {
        "id": "_LVnzsv3qmw_",
        "colab_type": "code",
        "colab": {}
      },
      "cell_type": "code",
      "source": [
        "train_X, val_X, train_Y, val_Y = train_test_split(X, Y, test_size=0.2, random_state=42)"
      ],
      "execution_count": 0,
      "outputs": []
    },
    {
      "metadata": {
        "id": "uxq-LHmEsEoV",
        "colab_type": "code",
        "colab": {}
      },
      "cell_type": "code",
      "source": [
        "train_X = train_X.reshape(train_X.shape[0], img_rows, img_cols, 1)\n",
        "val_X = val_X.reshape(val_X.shape[0], img_rows, img_cols, 1)"
      ],
      "execution_count": 0,
      "outputs": []
    },
    {
      "metadata": {
        "id": "qvFa_lMisiQp",
        "colab_type": "code",
        "colab": {}
      },
      "cell_type": "code",
      "source": [
        "train_X = train_X.astype('float32')\n",
        "val_X = val_X.astype('float32')\n",
        "train_X /= 255\n",
        "val_X /= 255"
      ],
      "execution_count": 0,
      "outputs": []
    },
    {
      "metadata": {
        "id": "SPSeCK3rtOs7",
        "colab_type": "code",
        "colab": {}
      },
      "cell_type": "code",
      "source": [
        "class_names = ['T-shirt/top', 'Trouser', 'Pullover', 'Dress', 'Coat', \n",
        "               'Sandal', 'Shirt', 'Sneaker', 'Bag', 'Ankle boot']"
      ],
      "execution_count": 0,
      "outputs": []
    },
    {
      "metadata": {
        "id": "aJjJwrS7s8ZB",
        "colab_type": "code",
        "outputId": "c04759c1-4377-42a3-96ab-f2e62e29d881",
        "colab": {
          "base_uri": "https://localhost:8080/",
          "height": 286
        }
      },
      "cell_type": "code",
      "source": [
        "image_index = 111\n",
        "\n",
        "test_im = train_X[image_index]\n",
        "plt.imshow(test_im.reshape(28,28), cmap='viridis', interpolation='none')\n",
        "print(class_names[np.argmax(train_Y[image_index])])\n",
        "plt.show()"
      ],
      "execution_count": 0,
      "outputs": [
        {
          "output_type": "stream",
          "text": [
            "Ankle boot\n"
          ],
          "name": "stdout"
        },
        {
          "output_type": "display_data",
          "data": {
            "image/png": "[encoded data removed]",
            "text/plain": [
              "<Figure size 432x288 with 1 Axes>"
            ]
          },
          "metadata": {
            "tags": []
          }
        }
      ]
    },
    {
      "metadata": {
        "id": "I6F_Bsoathou",
        "colab_type": "code",
        "colab": {}
      },
      "cell_type": "code",
      "source": [
        "def build_model():\n",
        "  model = keras.Sequential([\n",
        "    layers.Conv2D(32, kernel_size=(3, 3),\n",
        "                 input_shape=input_shape),\n",
        "    layers.MaxPooling2D((2, 2)),\n",
        "    layers.Flatten(),\n",
        "    layers.Dense(10,activation='softmax')\n",
        "  ])\n",
        "\n",
        "  optimizer = tf.keras.optimizers.SGD(0.01)\n",
        "\n",
        "  model.compile(loss='categorical_crossentropy',\n",
        "                optimizer=optimizer,\n",
        "                metrics=['accuracy'])\n",
        "  return model"
      ],
      "execution_count": 0,
      "outputs": []
    },
    {
      "metadata": {
        "id": "wAEMCcL9u4yC",
        "colab_type": "code",
        "outputId": "0c63fe33-29b9-41e2-b2f1-f4b1986d361e",
        "colab": {
          "base_uri": "https://localhost:8080/",
          "height": 88
        }
      },
      "cell_type": "code",
      "source": [
        "model = build_model()"
      ],
      "execution_count": 0,
      "outputs": [
        {
          "output_type": "stream",
          "text": [
            "WARNING:tensorflow:From /usr/local/lib/python3.6/dist-packages/tensorflow/python/ops/resource_variable_ops.py:435: colocate_with (from tensorflow.python.framework.ops) is deprecated and will be removed in a future version.\n",
            "Instructions for updating:\n",
            "Colocations handled automatically by placer.\n"
          ],
          "name": "stdout"
        }
      ]
    },
    {
      "metadata": {
        "id": "1mrbBPDyu7Tb",
        "colab_type": "code",
        "outputId": "e29fec0b-294c-4615-9801-92c49eac0a70",
        "colab": {
          "base_uri": "https://localhost:8080/",
          "height": 272
        }
      },
      "cell_type": "code",
      "source": [
        "model.summary()"
      ],
      "execution_count": 0,
      "outputs": [
        {
          "output_type": "stream",
          "text": [
            "_________________________________________________________________\n",
            "Layer (type)                 Output Shape              Param #   \n",
            "=================================================================\n",
            "conv2d (Conv2D)              (None, 26, 26, 32)        320       \n",
            "_________________________________________________________________\n",
            "max_pooling2d (MaxPooling2D) (None, 13, 13, 32)        0         \n",
            "_________________________________________________________________\n",
            "flatten (Flatten)            (None, 5408)              0         \n",
            "_________________________________________________________________\n",
            "dense (Dense)                (None, 10)                54090     \n",
            "=================================================================\n",
            "Total params: 54,410\n",
            "Trainable params: 54,410\n",
            "Non-trainable params: 0\n",
            "_________________________________________________________________\n"
          ],
          "name": "stdout"
        }
      ]
    },
    {
      "metadata": {
        "id": "si6hP5osvJeT",
        "colab_type": "code",
        "colab": {}
      },
      "cell_type": "code",
      "source": [
        "# Keras callbacks\n",
        "\n",
        "# Prints a dot for every epoch, just easier to keep track of training\n",
        "class PrintDot(keras.callbacks.Callback):\n",
        "  def on_epoch_end(self, epoch, logs):\n",
        "    if epoch % 100 == 0: print('')\n",
        "    print('.', end='')\n",
        "    \n",
        "# Early stopping\n",
        "early_stop = keras.callbacks.EarlyStopping(monitor='val_loss', patience=10)"
      ],
      "execution_count": 0,
      "outputs": []
    },
    {
      "metadata": {
        "id": "fcPnJZzQvDzY",
        "colab_type": "code",
        "outputId": "f0a2dcdc-89b8-48d2-861f-ec78b9f1a8db",
        "colab": {
          "base_uri": "https://localhost:8080/",
          "height": 122
        }
      },
      "cell_type": "code",
      "source": [
        "EPOCHS = 2\n",
        "batch_size = 256\n",
        "\n",
        "history = model.fit(train_X, train_Y,\n",
        "          batch_size=batch_size,\n",
        "          epochs=EPOCHS,\n",
        "          verbose=0,\n",
        "          validation_data=(val_X, val_Y),\n",
        "          callbacks=[PrintDot()])"
      ],
      "execution_count": 0,
      "outputs": [
        {
          "output_type": "stream",
          "text": [
            "WARNING:tensorflow:From /usr/local/lib/python3.6/dist-packages/tensorflow/python/ops/math_ops.py:3066: to_int32 (from tensorflow.python.ops.math_ops) is deprecated and will be removed in a future version.\n",
            "Instructions for updating:\n",
            "Use tf.cast instead.\n",
            "\n",
            ".."
          ],
          "name": "stdout"
        }
      ]
    },
    {
      "metadata": {
        "id": "NJ7QGUfmwf1R",
        "colab_type": "code",
        "colab": {}
      },
      "cell_type": "code",
      "source": [
        "score = model.evaluate(val_X, val_Y, verbose=0)"
      ],
      "execution_count": 0,
      "outputs": []
    },
    {
      "metadata": {
        "id": "Cvg0Y2s6xFQ7",
        "colab_type": "code",
        "outputId": "3e4c9cc5-0f01-47e3-8f69-27cf5ce5929d",
        "colab": {
          "base_uri": "https://localhost:8080/",
          "height": 111
        }
      },
      "cell_type": "code",
      "source": [
        "hist = pd.DataFrame(history.history)\n",
        "hist['epoch'] = history.epoch\n",
        "hist.tail()"
      ],
      "execution_count": 0,
      "outputs": [
        {
          "output_type": "execute_result",
          "data": {
            "text/html": [
              "<div>\n",
              "<style scoped>\n",
              "    .dataframe tbody tr th:only-of-type {\n",
              "        vertical-align: middle;\n",
              "    }\n",
              "\n",
              "    .dataframe tbody tr th {\n",
              "        vertical-align: top;\n",
              "    }\n",
              "\n",
              "    .dataframe thead th {\n",
              "        text-align: right;\n",
              "    }\n",
              "</style>\n",
              "<table border=\"1\" class=\"dataframe\">\n",
              "  <thead>\n",
              "    <tr style=\"text-align: right;\">\n",
              "      <th></th>\n",
              "      <th>loss</th>\n",
              "      <th>acc</th>\n",
              "      <th>val_loss</th>\n",
              "      <th>val_acc</th>\n",
              "      <th>epoch</th>\n",
              "    </tr>\n",
              "  </thead>\n",
              "  <tbody>\n",
              "    <tr>\n",
              "      <th>0</th>\n",
              "      <td>1.378614</td>\n",
              "      <td>0.624833</td>\n",
              "      <td>0.858919</td>\n",
              "      <td>0.716917</td>\n",
              "      <td>0</td>\n",
              "    </tr>\n",
              "    <tr>\n",
              "      <th>1</th>\n",
              "      <td>0.746354</td>\n",
              "      <td>0.754938</td>\n",
              "      <td>0.672771</td>\n",
              "      <td>0.768750</td>\n",
              "      <td>1</td>\n",
              "    </tr>\n",
              "  </tbody>\n",
              "</table>\n",
              "</div>"
            ],
            "text/plain": [
              "       loss       acc  val_loss   val_acc  epoch\n",
              "0  1.378614  0.624833  0.858919  0.716917      0\n",
              "1  0.746354  0.754938  0.672771  0.768750      1"
            ]
          },
          "metadata": {
            "tags": []
          },
          "execution_count": 17
        }
      ]
    },
    {
      "metadata": {
        "id": "5I5FHbdZwel8",
        "colab_type": "code",
        "colab": {}
      },
      "cell_type": "code",
      "source": [
        "#Plot history of model function\n",
        "\n",
        "def plot_history(history):\n",
        "  hist = pd.DataFrame(history.history)\n",
        "  hist['epoch'] = history.epoch\n",
        "  \n",
        "  plt.figure()\n",
        "  plt.xlabel('Epoch')\n",
        "  plt.ylabel('Accuracy')\n",
        "  plt.plot(hist['epoch'], hist['acc'],\n",
        "           label='Train acc')\n",
        "  plt.plot(hist['epoch'], hist['val_acc'],\n",
        "           label = 'Val acc')\n",
        "  plt.ylim([0,1])\n",
        "  plt.legend()\n",
        "  plt.show()"
      ],
      "execution_count": 0,
      "outputs": []
    },
    {
      "metadata": {
        "id": "umAfSX0Twsqy",
        "colab_type": "code",
        "outputId": "bb5ca0f4-566c-43e8-9ae1-6b2c00ac4aa3",
        "colab": {
          "base_uri": "https://localhost:8080/",
          "height": 283
        }
      },
      "cell_type": "code",
      "source": [
        "plot_history(history)"
      ],
      "execution_count": 0,
      "outputs": [
        {
          "output_type": "display_data",
          "data": {
            "image/png": "[encoded data removed]",
            "text/plain": [
              "<Figure size 432x288 with 1 Axes>"
            ]
          },
          "metadata": {
            "tags": []
          }
        }
      ]
    },
    {
      "metadata": {
        "id": "Nv7RZyxdw1I9",
        "colab_type": "code",
        "outputId": "a1a808ad-d676-42ac-8d83-d981339b5692",
        "colab": {
          "base_uri": "https://localhost:8080/",
          "height": 51
        }
      },
      "cell_type": "code",
      "source": [
        "print('Test loss:', score[0])\n",
        "print('Test accuracy:', score[1])"
      ],
      "execution_count": 0,
      "outputs": [
        {
          "output_type": "stream",
          "text": [
            "Test loss: 0.6727707419395447\n",
            "Test accuracy: 0.76875\n"
          ],
          "name": "stdout"
        }
      ]
    },
    {
      "metadata": {
        "id": "cyJH5S6Mxzzt",
        "colab_type": "code",
        "colab": {}
      },
      "cell_type": "code",
      "source": [
        "test_X = pd.read_csv(\"fashion_test_X.csv\")\n",
        "test_X = np.array(test_X)\n",
        "test_X = test_X.reshape(test_X.shape[0], img_rows, img_cols, 1)\n",
        "test_X = test_X.astype('float32')\n",
        "test_X /= 255"
      ],
      "execution_count": 0,
      "outputs": []
    },
    {
      "metadata": {
        "id": "nVaVyxtXyOH8",
        "colab_type": "code",
        "outputId": "0f3f1fee-b3e0-4453-c572-b2a90f32ea4d",
        "colab": {
          "base_uri": "https://localhost:8080/",
          "height": 34
        }
      },
      "cell_type": "code",
      "source": [
        "test_predictions = np.argmax(model.predict(test_X), axis=1).astype('float32')\n",
        "print(test_predictions)"
      ],
      "execution_count": 0,
      "outputs": [
        {
          "output_type": "stream",
          "text": [
            "[6. 0. 9. ... 0. 6. 2.]\n"
          ],
          "name": "stdout"
        }
      ]
    },
    {
      "metadata": {
        "id": "SX2ayS8K0Ok2",
        "colab_type": "code",
        "colab": {}
      },
      "cell_type": "code",
      "source": [
        "submission = pd.DataFrame(data=test_predictions, columns=['class'])"
      ],
      "execution_count": 0,
      "outputs": []
    },
    {
      "metadata": {
        "id": "14IJiar91WPq",
        "colab_type": "code",
        "colab": {}
      },
      "cell_type": "code",
      "source": [
        "submission.to_csv(\"submission.csv\",index_label=\"index\")"
      ],
      "execution_count": 0,
      "outputs": []
    },
    {
      "metadata": {
        "id": "BWc3wwOx1Yxy",
        "colab_type": "code",
        "colab": {}
      },
      "cell_type": "code",
      "source": [
        ""
      ],
      "execution_count": 0,
      "outputs": []
    }
  ]
}