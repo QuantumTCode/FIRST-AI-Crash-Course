{
  "nbformat": 4,
  "nbformat_minor": 0,
  "metadata": {
    "colab": {
      "name": "AI Crash Course #2: Convolutional Neural Networks.ipynb",
      "version": "0.3.2",
      "provenance": [],
      "collapsed_sections": [],
      "include_colab_link": true
    },
    "kernelspec": {
      "name": "python3",
      "display_name": "Python 3"
    },
    "accelerator": "GPU"
  },
  "cells": [
    {
      "cell_type": "markdown",
      "metadata": {
        "id": "view-in-github",
        "colab_type": "text"
      },
      "source": [
        "<a href=\"https://colab.research.google.com/github/QuantumTCode/FIRST-AI-Crash-Course/blob/master/Lesson%20%232%3A%20Convolutional%20Neural%20Networks/AI_Crash_Course_2_Convolutional_Neural_Networks.ipynb\" target=\"_parent\"><img src=\"https://colab.research.google.com/assets/colab-badge.svg\" alt=\"Open In Colab\"/></a>"
      ]
    },
    {
      "metadata": {
        "id": "JPmVf3mXqJre",
        "colab_type": "text"
      },
      "cell_type": "markdown",
      "source": [
        "# FIRST AI Crash Course: Convolutional Neural Networks"
      ]
    },
    {
      "metadata": {
        "id": "EngJABmMqP_H",
        "colab_type": "text"
      },
      "cell_type": "markdown",
      "source": [
        "## Step 0: Import Necessary Libraries"
      ]
    },
    {
      "metadata": {
        "id": "eraZH9KubTa2",
        "colab_type": "code",
        "colab": {
          "base_uri": "https://localhost:8080/",
          "height": 34
        },
        "outputId": "b5f6d606-02de-4b12-f7e5-6114f1bb071b"
      },
      "cell_type": "code",
      "source": [
        "# Pandas is a data processing library\n",
        "import pandas as pd\n",
        "\n",
        "#NumPy is mathematical library\n",
        "import numpy as np\n",
        "\n",
        "# Data visualization\n",
        "import seaborn as sns\n",
        "import matplotlib.pyplot as plt\n",
        "\n",
        "# and TensorFlow is the backbone of Keras, which is the Neural Network Library we will be using\n",
        "import tensorflow as tf\n",
        "from tensorflow import keras\n",
        "from tensorflow.keras import layers\n",
        "from keras.utils import to_categorical\n",
        "\n",
        "# Splitting Data\n",
        "from sklearn.model_selection import train_test_split\n",
        "\n",
        "import pathlib"
      ],
      "execution_count": 1,
      "outputs": [
        {
          "output_type": "stream",
          "text": [
            "Using TensorFlow backend.\n"
          ],
          "name": "stderr"
        }
      ]
    },
    {
      "metadata": {
        "id": "BhHF-1EoqVPe",
        "colab_type": "text"
      },
      "cell_type": "markdown",
      "source": [
        "## Let's Begin! All comments are where we will be working to fill in the code in real-time, they're supposed to be blank.\n",
        "\n",
        "A filled-out copy will be posted to the GitHub once we complete it in the workshop.\n"
      ]
    },
    {
      "metadata": {
        "id": "JsnscWinpLS5",
        "colab_type": "code",
        "colab": {}
      },
      "cell_type": "code",
      "source": [
        "# Download data files\n",
        "!wget https://github.com/QuantumTCode/FIRST-AI-Crash-Course/raw/master/Lesson%20%232:%20Convolutional%20Neural%20Networks/fashion_test_X.csv\n",
        "!wget https://github.com/QuantumTCode/FIRST-AI-Crash-Course/raw/master/Lesson%20%232:%20Convolutional%20Neural%20Networks/fashion-mnist_train.csv.zip && unzip fashion-mnist_train.csv.zip && rm -rf __MACOSX && rm fashion-mnist_train.csv.zip"
      ],
      "execution_count": 0,
      "outputs": []
    },
    {
      "metadata": {
        "id": "_Z4_07EJdaqY",
        "colab_type": "code",
        "colab": {}
      },
      "cell_type": "code",
      "source": [
        "# load in training data"
      ],
      "execution_count": 0,
      "outputs": []
    },
    {
      "metadata": {
        "id": "BjRK9-SeqgCL",
        "colab_type": "code",
        "colab": {}
      },
      "cell_type": "code",
      "source": [
        "# set variables for image data"
      ],
      "execution_count": 0,
      "outputs": []
    },
    {
      "metadata": {
        "id": "-HmRFFIaqgzh",
        "colab_type": "code",
        "colab": {}
      },
      "cell_type": "code",
      "source": [
        "# split X and Y\n",
        "\n",
        "X = np.array(train_dataset.iloc[:, 1:])\n",
        "Y = to_categorical(np.array(train_dataset.iloc[:, 0]))"
      ],
      "execution_count": 0,
      "outputs": []
    },
    {
      "metadata": {
        "id": "_LVnzsv3qmw_",
        "colab_type": "code",
        "colab": {}
      },
      "cell_type": "code",
      "source": [
        "# split training and validation"
      ],
      "execution_count": 0,
      "outputs": []
    },
    {
      "metadata": {
        "id": "uxq-LHmEsEoV",
        "colab_type": "code",
        "colab": {}
      },
      "cell_type": "code",
      "source": [
        "# reshape images"
      ],
      "execution_count": 0,
      "outputs": []
    },
    {
      "metadata": {
        "id": "qvFa_lMisiQp",
        "colab_type": "code",
        "colab": {}
      },
      "cell_type": "code",
      "source": [
        "# normalize images"
      ],
      "execution_count": 0,
      "outputs": []
    },
    {
      "metadata": {
        "id": "SPSeCK3rtOs7",
        "colab_type": "code",
        "colab": {}
      },
      "cell_type": "code",
      "source": [
        "class_names = ['T-shirt/top', 'Trouser', 'Pullover', 'Dress', 'Coat', \n",
        "               'Sandal', 'Shirt', 'Sneaker', 'Bag', 'Ankle boot']"
      ],
      "execution_count": 0,
      "outputs": []
    },
    {
      "metadata": {
        "id": "aJjJwrS7s8ZB",
        "colab_type": "code",
        "colab": {}
      },
      "cell_type": "code",
      "source": [
        "# explore dataset\n",
        "\n",
        "image_index = 111\n",
        "\n",
        "test_im = train_X[image_index]\n",
        "plt.imshow(test_im.reshape(28,28), cmap='viridis', interpolation='none')\n",
        "print(class_names[np.argmax(train_Y[image_index])])\n",
        "plt.show()"
      ],
      "execution_count": 0,
      "outputs": []
    },
    {
      "metadata": {
        "id": "I6F_Bsoathou",
        "colab_type": "code",
        "colab": {}
      },
      "cell_type": "code",
      "source": [
        "# construct convolutional neural network!"
      ],
      "execution_count": 0,
      "outputs": []
    },
    {
      "metadata": {
        "id": "wAEMCcL9u4yC",
        "colab_type": "code",
        "colab": {}
      },
      "cell_type": "code",
      "source": [
        "# build model"
      ],
      "execution_count": 0,
      "outputs": []
    },
    {
      "metadata": {
        "id": "1mrbBPDyu7Tb",
        "colab_type": "code",
        "colab": {}
      },
      "cell_type": "code",
      "source": [
        "# see summary of model"
      ],
      "execution_count": 0,
      "outputs": []
    },
    {
      "metadata": {
        "id": "si6hP5osvJeT",
        "colab_type": "code",
        "colab": {}
      },
      "cell_type": "code",
      "source": [
        "# Keras callbacks\n",
        "\n",
        "# Prints a dot for every epoch, just easier to keep track of training\n",
        "class PrintDot(keras.callbacks.Callback):\n",
        "  def on_epoch_end(self, epoch, logs):\n",
        "    if epoch % 100 == 0: print('')\n",
        "    print('.', end='')\n",
        "    \n",
        "# Early stopping\n",
        "early_stop = keras.callbacks.EarlyStopping(monitor='val_loss', patience=10)"
      ],
      "execution_count": 0,
      "outputs": []
    },
    {
      "metadata": {
        "id": "fcPnJZzQvDzY",
        "colab_type": "code",
        "colab": {}
      },
      "cell_type": "code",
      "source": [
        "# train model"
      ],
      "execution_count": 0,
      "outputs": []
    },
    {
      "metadata": {
        "id": "NJ7QGUfmwf1R",
        "colab_type": "code",
        "colab": {}
      },
      "cell_type": "code",
      "source": [
        "# score model"
      ],
      "execution_count": 0,
      "outputs": []
    },
    {
      "metadata": {
        "id": "Cvg0Y2s6xFQ7",
        "colab_type": "code",
        "colab": {}
      },
      "cell_type": "code",
      "source": [
        "# describe history"
      ],
      "execution_count": 0,
      "outputs": []
    },
    {
      "metadata": {
        "id": "5I5FHbdZwel8",
        "colab_type": "code",
        "colab": {}
      },
      "cell_type": "code",
      "source": [
        "#Plot history of model function\n",
        "\n",
        "def plot_history(history):\n",
        "  hist = pd.DataFrame(history.history)\n",
        "  hist['epoch'] = history.epoch\n",
        "  \n",
        "  plt.figure()\n",
        "  plt.xlabel('Epoch')\n",
        "  plt.ylabel('Accuracy')\n",
        "  plt.plot(hist['epoch'], hist['acc'],\n",
        "           label='Train acc')\n",
        "  plt.plot(hist['epoch'], hist['val_acc'],\n",
        "           label = 'Val acc')\n",
        "  plt.ylim([0,1])\n",
        "  plt.legend()\n",
        "  plt.show()"
      ],
      "execution_count": 0,
      "outputs": []
    },
    {
      "metadata": {
        "id": "umAfSX0Twsqy",
        "colab_type": "code",
        "colab": {}
      },
      "cell_type": "code",
      "source": [
        "# plot accuracy"
      ],
      "execution_count": 0,
      "outputs": []
    },
    {
      "metadata": {
        "id": "Nv7RZyxdw1I9",
        "colab_type": "code",
        "colab": {}
      },
      "cell_type": "code",
      "source": [
        "print('Test loss:', score[0])\n",
        "print('Test accuracy:', score[1])"
      ],
      "execution_count": 0,
      "outputs": []
    },
    {
      "metadata": {
        "id": "cyJH5S6Mxzzt",
        "colab_type": "code",
        "colab": {}
      },
      "cell_type": "code",
      "source": [
        "# preprocess test_X\n",
        "\n",
        "test_X = pd.read_csv(\"fashion_test_X.csv\")\n",
        "test_X = np.array(test_X)\n",
        "test_X = test_X.reshape(test_X.shape[0], img_rows, img_cols, 1)\n",
        "test_X = test_X.astype('float32')\n",
        "test_X /= 255"
      ],
      "execution_count": 0,
      "outputs": []
    },
    {
      "metadata": {
        "id": "nVaVyxtXyOH8",
        "colab_type": "code",
        "colab": {}
      },
      "cell_type": "code",
      "source": [
        "# predict test_X\n",
        "test_predictions = np.argmax(model.predict(test_X), axis=1).astype('float32')\n",
        "print(test_predictions)"
      ],
      "execution_count": 0,
      "outputs": []
    },
    {
      "metadata": {
        "id": "SX2ayS8K0Ok2",
        "colab_type": "code",
        "colab": {}
      },
      "cell_type": "code",
      "source": [
        "# construct submission\n",
        "submission = pd.DataFrame(data=test_predictions, columns=['class'])\n",
        "submission.to_csv(\"submission.csv\",index_label=\"index\")"
      ],
      "execution_count": 0,
      "outputs": []
    }
  ]
}